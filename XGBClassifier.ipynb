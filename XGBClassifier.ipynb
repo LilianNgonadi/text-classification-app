{
 "cells": [
  {
   "cell_type": "markdown",
   "metadata": {},
   "source": [
    "# Import Libraries"
   ]
  },
  {
   "cell_type": "code",
   "execution_count": 1,
   "metadata": {},
   "outputs": [],
   "source": [
    "import pandas as pd\n",
    "import numpy as np\n",
    "import re\n",
    "from sklearn.model_selection import train_test_split\n",
    "from sklearn.feature_extraction.text import TfidfVectorizer\n",
    "from sklearn.linear_model import LogisticRegression\n",
    "from sklearn.metrics import accuracy_score, classification_report, confusion_matrix\n",
    "from sklearn.feature_extraction.text import TfidfVectorizer\n",
    "from sklearn.linear_model import LogisticRegression"
   ]
  },
  {
   "cell_type": "markdown",
   "metadata": {},
   "source": [
    "# Load the datasets"
   ]
  },
  {
   "cell_type": "code",
   "execution_count": 2,
   "metadata": {},
   "outputs": [
    {
     "data": {
      "text/plain": [
       "(   2401  Borderlands  Positive  \\\n",
       " 0  2401  Borderlands  Positive   \n",
       " 1  2401  Borderlands  Positive   \n",
       " 2  2401  Borderlands  Positive   \n",
       " 3  2401  Borderlands  Positive   \n",
       " 4  2401  Borderlands  Positive   \n",
       " \n",
       "   im getting on borderlands and i will murder you all ,  \n",
       " 0  I am coming to the borders and I will kill you...     \n",
       " 1  im getting on borderlands and i will kill you ...     \n",
       " 2  im coming on borderlands and i will murder you...     \n",
       " 3  im getting on borderlands 2 and i will murder ...     \n",
       " 4  im getting into borderlands and i can murder y...     ,\n",
       "    3364   Facebook Irrelevant  \\\n",
       " 0   352     Amazon    Neutral   \n",
       " 1  8312  Microsoft   Negative   \n",
       " 2  4371      CS-GO   Negative   \n",
       " 3  4433     Google    Neutral   \n",
       " 4  6273       FIFA   Negative   \n",
       " \n",
       "   I mentioned on Facebook that I was struggling for motivation to go for a run the other day, which has been translated by Tom’s great auntie as ‘Hayley can’t get out of bed’ and told to his grandma, who now thinks I’m a lazy, terrible person 🤣  \n",
       " 0  BBC News - Amazon boss Jeff Bezos rejects clai...                                                                                                                                                                                                  \n",
       " 1  @Microsoft Why do I pay for WORD when it funct...                                                                                                                                                                                                  \n",
       " 2  CSGO matchmaking is so full of closet hacking,...                                                                                                                                                                                                  \n",
       " 3  Now the President is slapping Americans in the...                                                                                                                                                                                                  \n",
       " 4  Hi @EAHelp I’ve had Madeleine McCann in my cel...                                                                                                                                                                                                  )"
      ]
     },
     "execution_count": 2,
     "metadata": {},
     "output_type": "execute_result"
    }
   ],
   "source": [
    "# Load the datasets\n",
    "train_data = pd.read_csv('/Users/lilianngonadi/Downloads/twitter_training.csv')\n",
    "validation_data = pd.read_csv('/Users/lilianngonadi/Downloads/twitter_validation.csv')\n",
    "\n",
    "# Display the first few rows of each dataset\n",
    "train_data.head(), validation_data.head()"
   ]
  },
  {
   "cell_type": "markdown",
   "metadata": {},
   "source": [
    "# Explore the data"
   ]
  },
  {
   "cell_type": "code",
   "execution_count": 3,
   "metadata": {},
   "outputs": [
    {
     "name": "stdout",
     "output_type": "stream",
     "text": [
      "<class 'pandas.core.frame.DataFrame'>\n",
      "RangeIndex: 74681 entries, 0 to 74680\n",
      "Data columns (total 4 columns):\n",
      " #   Column                                                 Non-Null Count  Dtype \n",
      "---  ------                                                 --------------  ----- \n",
      " 0   2401                                                   74681 non-null  int64 \n",
      " 1   Borderlands                                            74681 non-null  object\n",
      " 2   Positive                                               74681 non-null  object\n",
      " 3   im getting on borderlands and i will murder you all ,  73995 non-null  object\n",
      "dtypes: int64(1), object(3)\n",
      "memory usage: 2.3+ MB\n",
      "<class 'pandas.core.frame.DataFrame'>\n",
      "RangeIndex: 999 entries, 0 to 998\n",
      "Data columns (total 4 columns):\n",
      " #   Column                                                                                                                                                                                                                                              Non-Null Count  Dtype \n",
      "---  ------                                                                                                                                                                                                                                              --------------  ----- \n",
      " 0   3364                                                                                                                                                                                                                                                999 non-null    int64 \n",
      " 1   Facebook                                                                                                                                                                                                                                            999 non-null    object\n",
      " 2   Irrelevant                                                                                                                                                                                                                                          999 non-null    object\n",
      " 3   I mentioned on Facebook that I was struggling for motivation to go for a run the other day, which has been translated by Tom’s great auntie as ‘Hayley can’t get out of bed’ and told to his grandma, who now thinks I’m a lazy, terrible person 🤣  999 non-null    object\n",
      "dtypes: int64(1), object(3)\n",
      "memory usage: 31.3+ KB\n"
     ]
    },
    {
     "data": {
      "text/plain": [
       "(2401                                                       0\n",
       " Borderlands                                                0\n",
       " Positive                                                   0\n",
       " im getting on borderlands and i will murder you all ,    686\n",
       " dtype: int64,\n",
       " 3364                                                                                                                                                                                                                                                  0\n",
       " Facebook                                                                                                                                                                                                                                              0\n",
       " Irrelevant                                                                                                                                                                                                                                            0\n",
       " I mentioned on Facebook that I was struggling for motivation to go for a run the other day, which has been translated by Tom’s great auntie as ‘Hayley can’t get out of bed’ and told to his grandma, who now thinks I’m a lazy, terrible person 🤣    0\n",
       " dtype: int64)"
      ]
     },
     "execution_count": 3,
     "metadata": {},
     "output_type": "execute_result"
    }
   ],
   "source": [
    "# Check the structure of the datasets\n",
    "train_data.info(), validation_data.info()\n",
    "\n",
    "# Basic statistics\n",
    "train_data.describe(), validation_data.describe()\n",
    "\n",
    "# Check for missing values\n",
    "train_data.isnull().sum(), validation_data.isnull().sum()"
   ]
  },
  {
   "cell_type": "markdown",
   "metadata": {},
   "source": [
    "# Data Cleaning and Preprocessing"
   ]
  },
  {
   "cell_type": "code",
   "execution_count": 4,
   "metadata": {},
   "outputs": [
    {
     "data": {
      "text/plain": [
       "(                                                text  Positive\n",
       " 0  Borderlands I am coming to the borders and I w...  Positive\n",
       " 1  Borderlands im getting on borderlands and i wi...  Positive\n",
       " 2  Borderlands im coming on borderlands and i wil...  Positive\n",
       " 3  Borderlands im getting on borderlands 2 and i ...  Positive\n",
       " 4  Borderlands im getting into borderlands and i ...  Positive,\n",
       "                                                 text Irrelevant\n",
       " 0  Amazon BBC News - Amazon boss Jeff Bezos rejec...    Neutral\n",
       " 1  Microsoft @Microsoft Why do I pay for WORD whe...   Negative\n",
       " 2  CS-GO CSGO matchmaking is so full of closet ha...   Negative\n",
       " 3  Google Now the President is slapping Americans...    Neutral\n",
       " 4  FIFA Hi @EAHelp I’ve had Madeleine McCann in m...   Negative)"
      ]
     },
     "execution_count": 4,
     "metadata": {},
     "output_type": "execute_result"
    }
   ],
   "source": [
    "# Fill missing values with empty strings\n",
    "train_data.fillna(\"\", inplace=True)\n",
    "validation_data.fillna(\"\", inplace=True)\n",
    "\n",
    "# Combine the text columns into a single column for analysis\n",
    "train_data['text'] = train_data[['Borderlands', 'im getting on borderlands and i will murder you all ,']].agg(' '.join, axis=1)\n",
    "validation_data['text'] = validation_data[['Facebook', 'I mentioned on Facebook that I was struggling for motivation to go for a run the other day, which has been translated by Tom’s great auntie as ‘Hayley can’t get out of bed’ and told to his grandma, who now thinks I’m a lazy, terrible person 🤣']].agg(' '.join, axis=1)\n",
    "\n",
    "# Select features and labels\n",
    "X_train = train_data['text']\n",
    "y_train = train_data['Positive']\n",
    "X_val = validation_data['text']\n",
    "y_val = validation_data['Irrelevant']\n",
    "\n",
    "# Display the cleaned and combined data\n",
    "train_data[['text', 'Positive']].head(), validation_data[['text', 'Irrelevant']].head()\n"
   ]
  },
  {
   "cell_type": "markdown",
   "metadata": {},
   "source": [
    "# Text Preprocessing and Feature Extraction"
   ]
  },
  {
   "cell_type": "code",
   "execution_count": 5,
   "metadata": {},
   "outputs": [
    {
     "data": {
      "text/plain": [
       "((74681, 5000), (999, 5000))"
      ]
     },
     "execution_count": 5,
     "metadata": {},
     "output_type": "execute_result"
    }
   ],
   "source": [
    "# Initialize TF-IDF Vectorizer\n",
    "tfidf = TfidfVectorizer(stop_words='english', max_features=5000)\n",
    "\n",
    "# Fit and transform the training data\n",
    "X_train_tfidf = tfidf.fit_transform(X_train)\n",
    "\n",
    "# Transform the validation data\n",
    "X_val_tfidf = tfidf.transform(X_val)\n",
    "\n",
    "# Display the shape of the transformed data\n",
    "X_train_tfidf.shape, X_val_tfidf.shape\n"
   ]
  },
  {
   "cell_type": "markdown",
   "metadata": {},
   "source": [
    "# Model Training XGBClassifier"
   ]
  },
  {
   "cell_type": "code",
   "execution_count": 9,
   "metadata": {},
   "outputs": [
    {
     "name": "stdout",
     "output_type": "stream",
     "text": [
      "Cross-validation F1 scores:  [0.66158118 0.66181373 0.67194018 0.66849752 0.66400719]\n",
      "Mean F1 score:  0.6655679604650381\n",
      "Standard deviation of F1 scores:  0.004040103967803809\n",
      "Validation Accuracy:  0.7567567567567568\n",
      "Classification Report: \n",
      "               precision    recall  f1-score   support\n",
      "\n",
      "  Irrelevant       0.83      0.67      0.74       171\n",
      "    Negative       0.69      0.88      0.78       266\n",
      "     Neutral       0.79      0.68      0.73       285\n",
      "    Positive       0.77      0.77      0.77       277\n",
      "\n",
      "    accuracy                           0.76       999\n",
      "   macro avg       0.77      0.75      0.75       999\n",
      "weighted avg       0.76      0.76      0.76       999\n",
      "\n",
      "Confusion Matrix: \n",
      " [[115  23  16  17]\n",
      " [  7 235  13  11]\n",
      " [ 10  47 193  35]\n",
      " [  7  34  23 213]]\n"
     ]
    }
   ],
   "source": [
    "from xgboost import XGBClassifier\n",
    "from sklearn.model_selection import cross_val_score, StratifiedKFold\n",
    "from sklearn.metrics import accuracy_score, classification_report, confusion_matrix\n",
    "from sklearn.preprocessing import LabelEncoder\n",
    "\n",
    "# Initialize LabelEncoder\n",
    "label_encoder = LabelEncoder()\n",
    "\n",
    "# Encode the target labels\n",
    "y_train_encoded = label_encoder.fit_transform(y_train)\n",
    "y_val_encoded = label_encoder.transform(y_val)\n",
    "\n",
    "# Initialize XGBoost model\n",
    "xgb_model = XGBClassifier(n_estimators=100, random_state=42,  eval_metric='logloss')\n",
    "\n",
    "# Define the cross-validation strategy\n",
    "cv = StratifiedKFold(n_splits=5, shuffle=True, random_state=42)\n",
    "\n",
    "# Evaluate the model using cross-validation\n",
    "cv_scores = cross_val_score(xgb_model, X_train_tfidf, y_train_encoded, cv=cv, scoring='f1_weighted', n_jobs=-1)\n",
    "\n",
    "# Train the XGBoost model\n",
    "xgb_model.fit(X_train_tfidf, y_train_encoded)\n",
    "\n",
    "# Predict on the validation set\n",
    "y_val_pred_xgb = xgb_model.predict(X_val_tfidf)\n",
    "\n",
    "# Decode the predicted labels back to the original labels\n",
    "y_val_pred_xgb_decoded = label_encoder.inverse_transform(y_val_pred_xgb)\n",
    "\n",
    "# Evaluate the XGBoost model\n",
    "accuracy_xgb = accuracy_score(y_val, y_val_pred_xgb_decoded)\n",
    "report_xgb = classification_report(y_val, y_val_pred_xgb_decoded)\n",
    "conf_matrix_xgb = confusion_matrix(y_val, y_val_pred_xgb_decoded)\n",
    "\n",
    "# Print cross-validation scores and evaluation metrics\n",
    "print(\"Cross-validation F1 scores: \", cv_scores)\n",
    "print(\"Mean F1 score: \", cv_scores.mean())\n",
    "print(\"Standard deviation of F1 scores: \", cv_scores.std())\n",
    "print(\"Validation Accuracy: \", accuracy_xgb)\n",
    "print(\"Classification Report: \\n\", report_xgb)\n",
    "print(\"Confusion Matrix: \\n\", conf_matrix_xgb)\n"
   ]
  }
 ],
 "metadata": {
  "kernelspec": {
   "display_name": "Python 3",
   "language": "python",
   "name": "python3"
  },
  "language_info": {
   "codemirror_mode": {
    "name": "ipython",
    "version": 3
   },
   "file_extension": ".py",
   "mimetype": "text/x-python",
   "name": "python",
   "nbconvert_exporter": "python",
   "pygments_lexer": "ipython3",
   "version": "3.12.4"
  }
 },
 "nbformat": 4,
 "nbformat_minor": 2
}
